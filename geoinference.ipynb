{
 "cells": [
  {
   "cell_type": "markdown",
   "metadata": {},
   "source": [
    "## Geo-Inferencing using Shapely"
   ]
  },
  {
   "cell_type": "markdown",
   "metadata": {},
   "source": [
    "## **Overview**\n",
    "\n",
    "Geo-Inferencing done with [Shapely](https://pypi.org/project/Shapely/) and visualizing data using [Matplotlib](https://pypi.org/project/matplotlib/)"
   ]
  },
  {
   "cell_type": "markdown",
   "metadata": {},
   "source": [
    "### **Case Study**"
   ]
  },
  {
   "cell_type": "markdown",
   "metadata": {},
   "source": [
    "**Client A** needs a system that's very dependent on user's location. He wants to be able to roll out services gradually starting from [Techiman](https://en.wikipedia.org/wiki/Techiman), a leading market town in South Ghana. He wants a way to restrict usage to only users within the Techiman geographical area. How then can you help him out ?"
   ]
  },
  {
   "cell_type": "markdown",
   "metadata": {},
   "source": [
    "### **Possible Solution**"
   ]
  },
  {
   "cell_type": "markdown",
   "metadata": {},
   "source": [
    "I went over to Google Maps, and searched for [Techiman](https://www.google.com/maps/place/Techiman/@7.589643,-1.9512214,14z/data=!3m1!4b1!4m5!3m4!1s0xfda8f6cf4c278ad:0x35b150d58886b9fa!8m2!3d7.5908801!4d-1.9343555) and manually selected some reasonable number of coordinates along the boundaries. I then proceeded to [Simple GeoJSON Editor](https://google-developers.appspot.com/maps/documentation/utils/geojson/) to visualize the coordinates i got from the Google Maps. \n",
    "\n",
    "Comparing the images below, I am convinced enough that the accuracy of my coordinates is pretty much okay. I now dive into code.\n",
    "\n",
    "<img alt=\"Google Maps\"  width=\"50%\" height=\"100px\" src=\"./data/a.jpg\"/>\n",
    "<img alt=\"GeoJson Editor\"  width=\"50%\" height=\"auto\" src=\"./data/b.jpg\"/>"
   ]
  },
  {
   "cell_type": "code",
   "execution_count": 296,
   "metadata": {},
   "outputs": [],
   "source": [
    "import json\n",
    "from shapely.geometry import Point, shape\n",
    "from matplotlib import patches, pyplot\n",
    "import numpy as np"
   ]
  },
  {
   "cell_type": "code",
   "execution_count": 297,
   "metadata": {},
   "outputs": [],
   "source": [
    "# load GeoJSON file containing geojson data\n",
    "with open('data/data.json') as geodata:\n",
    "    js = json.load(geodata)"
   ]
  },
  {
   "cell_type": "code",
   "execution_count": 298,
   "metadata": {},
   "outputs": [],
   "source": [
    "feature = js['features'][0]\n",
    "polygon = shape(feature['geometry'])"
   ]
  },
  {
   "cell_type": "code",
   "execution_count": 299,
   "metadata": {},
   "outputs": [],
   "source": [
    "def isInPolygon(point: Point):\n",
    "    return polygon.contains(point)"
   ]
  },
  {
   "cell_type": "code",
   "execution_count": 300,
   "metadata": {},
   "outputs": [],
   "source": [
    "def getPolygonProps():\n",
    "    data = {}\n",
    "    data['area'] = polygon.area\n",
    "    data['length'] = polygon.length\n",
    "    data['bounds'] = polygon.bounds\n",
    "    data['center'] = polygon.centroid.coords[0]\n",
    "    return data"
   ]
  },
  {
   "cell_type": "code",
   "execution_count": 301,
   "metadata": {},
   "outputs": [],
   "source": [
    "def plotPolygon():\n",
    "    x,y = polygon.exterior.xy\n",
    "    fig = pyplot.figure(1, figsize=(5,5), dpi=90)\n",
    "    ax = fig.add_subplot(111)\n",
    "    ax.plot(x, y, color='#6699cc', alpha=0.7, linewidth=3, solid_capstyle='round', zorder=2)\n",
    "    ax.set_title('Techiman')\n"
   ]
  },
  {
   "cell_type": "code",
   "execution_count": 302,
   "metadata": {},
   "outputs": [
    {
     "data": {
      "image/png": "[encoded data removed]",
      "text/plain": [
       "<Figure size 450x450 with 1 Axes>"
      ]
     },
     "metadata": {
      "needs_background": "light"
     },
     "output_type": "display_data"
    }
   ],
   "source": [
    "plotPolygon()"
   ]
  },
  {
   "cell_type": "code",
   "execution_count": 303,
   "metadata": {},
   "outputs": [
    {
     "name": "stdout",
     "output_type": "stream",
     "text": [
      "0.0014700825975000086\n"
     ]
    }
   ],
   "source": [
    "area = getPolygonArea()\n",
    "print(area)"
   ]
  },
  {
   "cell_type": "code",
   "execution_count": 304,
   "metadata": {},
   "outputs": [
    {
     "name": "stdout",
     "output_type": "stream",
     "text": [
      "POINT (-1.930622 7.582752) result is True\n"
     ]
    }
   ],
   "source": [
    "# a truthy test coordinate\n",
    "true_point = Point(-1.930622, 7.582752)\n",
    "\n",
    "print('{point} result is {result}'.format(point=true_point, result=isInPolygon(true_point)))"
   ]
  },
  {
   "cell_type": "code",
   "execution_count": 305,
   "metadata": {},
   "outputs": [
    {
     "name": "stdout",
     "output_type": "stream",
     "text": [
      "POINT (-1.914357 7.583687) result is False\n"
     ]
    }
   ],
   "source": [
    "# a falsy test coordinate\n",
    "false_point = Point(-1.914357, 7.583687)\n",
    "\n",
    "print('{point} result is {result}'.format(point=false_point, result=isInPolygon(false_point)))"
   ]
  }
 ],
 "metadata": {
  "kernelspec": {
   "display_name": "Python 3",
   "language": "python",
   "name": "python3"
  },
  "language_info": {
   "codemirror_mode": {
    "name": "ipython",
    "version": 3
   },
   "file_extension": ".py",
   "mimetype": "text/x-python",
   "name": "python",
   "nbconvert_exporter": "python",
   "pygments_lexer": "ipython3",
   "version": "3.4.3"
  }
 },
 "nbformat": 4,
 "nbformat_minor": 2
}
